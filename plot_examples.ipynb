{
 "cells": [
  {
   "cell_type": "code",
   "metadata": {
    "collapsed": true,
    "ExecuteTime": {
     "end_time": "2024-05-17T01:24:56.954132Z",
     "start_time": "2024-05-17T01:24:53.034222Z"
    }
   },
   "source": [
    "import torch\n",
    "from torch import nn\n",
    "import matplotlib.pyplot as plt\n",
    "import numpy as np\n",
    "import os\n",
    "import models.unet_precip_regression_lightning as unet_regr\n",
    "from utils import dataset_precip\n",
    "\n",
    "dataset = dataset_precip.precipitation_maps_oversampled_h5(\n",
    "            in_file=\"data/precipitation/train_test_2016-2019_input-length_12_image-ahead_6_rain-threshold_5.h5\",\n",
    "            num_input_images=12,\n",
    "            num_output_images=6, train=False)\n",
    "# 222, 444, 777, 1337 is fine\n",
    "x, y_true = dataset[777]\n",
    "# add batch dimension\n",
    "x = torch.tensor(x).unsqueeze(0)\n",
    "y_true = torch.tensor(y_true).unsqueeze(0)\n",
    "print(x.shape, y_true.shape)\n",
    "\n",
    "models_dir = \"lightning/precip_regression/comparison\"\n",
    "precip_models = [m for m in os.listdir(models_dir) if \".ckpt\" in m]\n",
    "print(precip_models)\n",
    "\n",
    "loss_func = nn.MSELoss(reduction=\"sum\")\n",
    "print(\"Persistence\", loss_func(x.squeeze()[-1]*260.0, y_true.squeeze()*260.0).item())\n",
    "\n",
    "plot_images = dict()\n",
    "for i, model_file in enumerate(precip_models):\n",
    "    # model_name = \"\".join(model_file.split(\"_\")[0])\n",
    "    if \"UNet_Attention\" in model_file:\n",
    "        model_name = \"UNet with CBAM\"\n",
    "        model = unet_regr.UNet_Attention\n",
    "    elif \"UNetDS_Attention_4CBAMs\" in model_file:\n",
    "        model_name = \"UNetDS Attention 4CBAMs\"\n",
    "        model = unet_regr.UNetDS_Attention_4CBAMs\n",
    "    elif \"UNetDS_Attention\" in model_file:\n",
    "        model_name = \"SmaAt-UNet\"\n",
    "        model = unet_regr.UNetDS_Attention\n",
    "    elif \"UNetDS\" in model_file:\n",
    "        model_name = \"UNet with DSC\"\n",
    "        model = unet_regr.UNetDS\n",
    "    elif \"UNet\" in model_file:\n",
    "        model_name = \"UNet\"\n",
    "        model = unet_regr.UNet\n",
    "    else:\n",
    "        raise NotImplementedError(f\"Model not found\")\n",
    "    model = model.load_from_checkpoint(f\"{models_dir}/{model_file}\")\n",
    "    # loaded = torch.load(f\"{models_dir}/{model_file}\")\n",
    "    # model = loaded[\"model\"]\n",
    "    # model.load_state_dict(loaded[\"state_dict\"])\n",
    "    # loss_func = nn.CrossEntropyLoss(weight=torch.tensor([1., 2., 3., 4., 5., 6., 7., 8.]))\n",
    "\n",
    "    model.to(\"cpu\")\n",
    "    model.eval()\n",
    "\n",
    "    # get prediction of model\n",
    "    with torch.no_grad():\n",
    "        y_pred = model(x)\n",
    "    y_pred = y_pred.squeeze()\n",
    "    print(model_name, loss_func(y_pred*260.0, y_true.squeeze()*260.0).item())\n",
    "\n",
    "    plot_images[model_name] = y_pred"
   ],
   "outputs": [
    {
     "ename": "FileNotFoundError",
     "evalue": "[Errno 2] Unable to synchronously open file (unable to open file: name = 'data/precipitation/train_test_2016-2019_input-length_12_image-ahead_6_rain-threshold_5.h5', errno = 2, error message = 'No such file or directory', flags = 0, o_flags = 0)",
     "output_type": "error",
     "traceback": [
      "\u001B[1;31m---------------------------------------------------------------------------\u001B[0m",
      "\u001B[1;31mFileNotFoundError\u001B[0m                         Traceback (most recent call last)",
      "Cell \u001B[1;32mIn[1], line 9\u001B[0m\n\u001B[0;32m      6\u001B[0m \u001B[38;5;28;01mimport\u001B[39;00m \u001B[38;5;21;01mmodels\u001B[39;00m\u001B[38;5;21;01m.\u001B[39;00m\u001B[38;5;21;01munet_precip_regression_lightning\u001B[39;00m \u001B[38;5;28;01mas\u001B[39;00m \u001B[38;5;21;01munet_regr\u001B[39;00m\n\u001B[0;32m      7\u001B[0m \u001B[38;5;28;01mfrom\u001B[39;00m \u001B[38;5;21;01mutils\u001B[39;00m \u001B[38;5;28;01mimport\u001B[39;00m dataset_precip\n\u001B[1;32m----> 9\u001B[0m dataset \u001B[38;5;241m=\u001B[39m \u001B[43mdataset_precip\u001B[49m\u001B[38;5;241;43m.\u001B[39;49m\u001B[43mprecipitation_maps_oversampled_h5\u001B[49m\u001B[43m(\u001B[49m\n\u001B[0;32m     10\u001B[0m \u001B[43m            \u001B[49m\u001B[43min_file\u001B[49m\u001B[38;5;241;43m=\u001B[39;49m\u001B[38;5;124;43m\"\u001B[39;49m\u001B[38;5;124;43mdata/precipitation/train_test_2016-2019_input-length_12_image-ahead_6_rain-threshold_5.h5\u001B[39;49m\u001B[38;5;124;43m\"\u001B[39;49m\u001B[43m,\u001B[49m\n\u001B[0;32m     11\u001B[0m \u001B[43m            \u001B[49m\u001B[43mnum_input_images\u001B[49m\u001B[38;5;241;43m=\u001B[39;49m\u001B[38;5;241;43m12\u001B[39;49m\u001B[43m,\u001B[49m\n\u001B[0;32m     12\u001B[0m \u001B[43m            \u001B[49m\u001B[43mnum_output_images\u001B[49m\u001B[38;5;241;43m=\u001B[39;49m\u001B[38;5;241;43m6\u001B[39;49m\u001B[43m,\u001B[49m\u001B[43m \u001B[49m\u001B[43mtrain\u001B[49m\u001B[38;5;241;43m=\u001B[39;49m\u001B[38;5;28;43;01mFalse\u001B[39;49;00m\u001B[43m)\u001B[49m\n\u001B[0;32m     13\u001B[0m \u001B[38;5;66;03m# 222, 444, 777, 1337 is fine\u001B[39;00m\n\u001B[0;32m     14\u001B[0m x, y_true \u001B[38;5;241m=\u001B[39m dataset[\u001B[38;5;241m777\u001B[39m]\n",
      "File \u001B[1;32m~\\Documents\\SmAnt-Unet\\SmaAt-UNet\\utils\\dataset_precip.py:53\u001B[0m, in \u001B[0;36mprecipitation_maps_oversampled_h5.__init__\u001B[1;34m(self, in_file, num_input_images, num_output_images, train, transform)\u001B[0m\n\u001B[0;32m     50\u001B[0m \u001B[38;5;28msuper\u001B[39m()\u001B[38;5;241m.\u001B[39m\u001B[38;5;21m__init__\u001B[39m()\n\u001B[0;32m     52\u001B[0m \u001B[38;5;28mself\u001B[39m\u001B[38;5;241m.\u001B[39mfile_name \u001B[38;5;241m=\u001B[39m in_file\n\u001B[1;32m---> 53\u001B[0m \u001B[38;5;28mself\u001B[39m\u001B[38;5;241m.\u001B[39msamples, _, _, _ \u001B[38;5;241m=\u001B[39m \u001B[43mh5py\u001B[49m\u001B[38;5;241;43m.\u001B[39;49m\u001B[43mFile\u001B[49m\u001B[43m(\u001B[49m\u001B[38;5;28;43mself\u001B[39;49m\u001B[38;5;241;43m.\u001B[39;49m\u001B[43mfile_name\u001B[49m\u001B[43m,\u001B[49m\u001B[43m \u001B[49m\u001B[38;5;124;43m\"\u001B[39;49m\u001B[38;5;124;43mr\u001B[39;49m\u001B[38;5;124;43m\"\u001B[39;49m\u001B[43m)\u001B[49m[\u001B[38;5;124m\"\u001B[39m\u001B[38;5;124mtrain\u001B[39m\u001B[38;5;124m\"\u001B[39m \u001B[38;5;28;01mif\u001B[39;00m train \u001B[38;5;28;01melse\u001B[39;00m \u001B[38;5;124m\"\u001B[39m\u001B[38;5;124mtest\u001B[39m\u001B[38;5;124m\"\u001B[39m][\u001B[38;5;124m\"\u001B[39m\u001B[38;5;124mimages\u001B[39m\u001B[38;5;124m\"\u001B[39m]\u001B[38;5;241m.\u001B[39mshape\n\u001B[0;32m     55\u001B[0m \u001B[38;5;28mself\u001B[39m\u001B[38;5;241m.\u001B[39mnum_input \u001B[38;5;241m=\u001B[39m num_input_images\n\u001B[0;32m     56\u001B[0m \u001B[38;5;28mself\u001B[39m\u001B[38;5;241m.\u001B[39mnum_output \u001B[38;5;241m=\u001B[39m num_output_images\n",
      "File \u001B[1;32mC:\\Python312\\Lib\\site-packages\\h5py\\_hl\\files.py:562\u001B[0m, in \u001B[0;36mFile.__init__\u001B[1;34m(self, name, mode, driver, libver, userblock_size, swmr, rdcc_nslots, rdcc_nbytes, rdcc_w0, track_order, fs_strategy, fs_persist, fs_threshold, fs_page_size, page_buf_size, min_meta_keep, min_raw_keep, locking, alignment_threshold, alignment_interval, meta_block_size, **kwds)\u001B[0m\n\u001B[0;32m    553\u001B[0m     fapl \u001B[38;5;241m=\u001B[39m make_fapl(driver, libver, rdcc_nslots, rdcc_nbytes, rdcc_w0,\n\u001B[0;32m    554\u001B[0m                      locking, page_buf_size, min_meta_keep, min_raw_keep,\n\u001B[0;32m    555\u001B[0m                      alignment_threshold\u001B[38;5;241m=\u001B[39malignment_threshold,\n\u001B[0;32m    556\u001B[0m                      alignment_interval\u001B[38;5;241m=\u001B[39malignment_interval,\n\u001B[0;32m    557\u001B[0m                      meta_block_size\u001B[38;5;241m=\u001B[39mmeta_block_size,\n\u001B[0;32m    558\u001B[0m                      \u001B[38;5;241m*\u001B[39m\u001B[38;5;241m*\u001B[39mkwds)\n\u001B[0;32m    559\u001B[0m     fcpl \u001B[38;5;241m=\u001B[39m make_fcpl(track_order\u001B[38;5;241m=\u001B[39mtrack_order, fs_strategy\u001B[38;5;241m=\u001B[39mfs_strategy,\n\u001B[0;32m    560\u001B[0m                      fs_persist\u001B[38;5;241m=\u001B[39mfs_persist, fs_threshold\u001B[38;5;241m=\u001B[39mfs_threshold,\n\u001B[0;32m    561\u001B[0m                      fs_page_size\u001B[38;5;241m=\u001B[39mfs_page_size)\n\u001B[1;32m--> 562\u001B[0m     fid \u001B[38;5;241m=\u001B[39m \u001B[43mmake_fid\u001B[49m\u001B[43m(\u001B[49m\u001B[43mname\u001B[49m\u001B[43m,\u001B[49m\u001B[43m \u001B[49m\u001B[43mmode\u001B[49m\u001B[43m,\u001B[49m\u001B[43m \u001B[49m\u001B[43muserblock_size\u001B[49m\u001B[43m,\u001B[49m\u001B[43m \u001B[49m\u001B[43mfapl\u001B[49m\u001B[43m,\u001B[49m\u001B[43m \u001B[49m\u001B[43mfcpl\u001B[49m\u001B[43m,\u001B[49m\u001B[43m \u001B[49m\u001B[43mswmr\u001B[49m\u001B[38;5;241;43m=\u001B[39;49m\u001B[43mswmr\u001B[49m\u001B[43m)\u001B[49m\n\u001B[0;32m    564\u001B[0m \u001B[38;5;28;01mif\u001B[39;00m \u001B[38;5;28misinstance\u001B[39m(libver, \u001B[38;5;28mtuple\u001B[39m):\n\u001B[0;32m    565\u001B[0m     \u001B[38;5;28mself\u001B[39m\u001B[38;5;241m.\u001B[39m_libver \u001B[38;5;241m=\u001B[39m libver\n",
      "File \u001B[1;32mC:\\Python312\\Lib\\site-packages\\h5py\\_hl\\files.py:235\u001B[0m, in \u001B[0;36mmake_fid\u001B[1;34m(name, mode, userblock_size, fapl, fcpl, swmr)\u001B[0m\n\u001B[0;32m    233\u001B[0m     \u001B[38;5;28;01mif\u001B[39;00m swmr \u001B[38;5;129;01mand\u001B[39;00m swmr_support:\n\u001B[0;32m    234\u001B[0m         flags \u001B[38;5;241m|\u001B[39m\u001B[38;5;241m=\u001B[39m h5f\u001B[38;5;241m.\u001B[39mACC_SWMR_READ\n\u001B[1;32m--> 235\u001B[0m     fid \u001B[38;5;241m=\u001B[39m \u001B[43mh5f\u001B[49m\u001B[38;5;241;43m.\u001B[39;49m\u001B[43mopen\u001B[49m\u001B[43m(\u001B[49m\u001B[43mname\u001B[49m\u001B[43m,\u001B[49m\u001B[43m \u001B[49m\u001B[43mflags\u001B[49m\u001B[43m,\u001B[49m\u001B[43m \u001B[49m\u001B[43mfapl\u001B[49m\u001B[38;5;241;43m=\u001B[39;49m\u001B[43mfapl\u001B[49m\u001B[43m)\u001B[49m\n\u001B[0;32m    236\u001B[0m \u001B[38;5;28;01melif\u001B[39;00m mode \u001B[38;5;241m==\u001B[39m \u001B[38;5;124m'\u001B[39m\u001B[38;5;124mr+\u001B[39m\u001B[38;5;124m'\u001B[39m:\n\u001B[0;32m    237\u001B[0m     fid \u001B[38;5;241m=\u001B[39m h5f\u001B[38;5;241m.\u001B[39mopen(name, h5f\u001B[38;5;241m.\u001B[39mACC_RDWR, fapl\u001B[38;5;241m=\u001B[39mfapl)\n",
      "File \u001B[1;32mh5py\\\\_objects.pyx:54\u001B[0m, in \u001B[0;36mh5py._objects.with_phil.wrapper\u001B[1;34m()\u001B[0m\n",
      "File \u001B[1;32mh5py\\\\_objects.pyx:55\u001B[0m, in \u001B[0;36mh5py._objects.with_phil.wrapper\u001B[1;34m()\u001B[0m\n",
      "File \u001B[1;32mh5py\\\\h5f.pyx:102\u001B[0m, in \u001B[0;36mh5py.h5f.open\u001B[1;34m()\u001B[0m\n",
      "\u001B[1;31mFileNotFoundError\u001B[0m: [Errno 2] Unable to synchronously open file (unable to open file: name = 'data/precipitation/train_test_2016-2019_input-length_12_image-ahead_6_rain-threshold_5.h5', errno = 2, error message = 'No such file or directory', flags = 0, o_flags = 0)"
     ]
    }
   ],
   "execution_count": 1
  },
  {
   "cell_type": "code",
   "source": [
    "#### Plotting ####\n",
    "plt.figure(figsize=(10, 20))\n",
    "plt.subplot(len(precip_models)+2, 1, 1)\n",
    "plt.imshow(y_true.squeeze()*260.0)\n",
    "plt.colorbar()\n",
    "plt.title(\"Ground truth\")\n",
    "plt.axis(\"off\")\n",
    "\n",
    "plt.subplot(len(precip_models)+2, 1, 2)\n",
    "plt.imshow(x.squeeze()[-1]*260.0, vmax=torch.max(y_true*260.0), vmin=torch.min(y_true*260.0))\n",
    "plt.colorbar()\n",
    "plt.title(\"Persistence\")\n",
    "plt.axis(\"off\")\n",
    "\n",
    "for i, (model_name, y_pred) in enumerate(plot_images.items()):\n",
    "    print(model_name)\n",
    "    plt.subplot(len(precip_models)+2, 1, i+3)\n",
    "    plt.imshow(y_pred*260.0, vmax=torch.max(y_true*260.0), vmin=torch.min(y_true*260.0))\n",
    "    plt.colorbar()\n",
    "    plt.title(model_name)\n",
    "    plt.axis(\"off\")\n",
    "# plt.colorbar()\n",
    "plt.show()"
   ],
   "metadata": {
    "collapsed": false,
    "ExecuteTime": {
     "end_time": "2024-05-17T01:25:03.575631Z",
     "start_time": "2024-05-17T01:25:03.519926Z"
    }
   },
   "outputs": [
    {
     "ename": "NameError",
     "evalue": "name 'precip_models' is not defined",
     "output_type": "error",
     "traceback": [
      "\u001B[1;31m---------------------------------------------------------------------------\u001B[0m",
      "\u001B[1;31mNameError\u001B[0m                                 Traceback (most recent call last)",
      "Cell \u001B[1;32mIn[2], line 3\u001B[0m\n\u001B[0;32m      1\u001B[0m \u001B[38;5;66;03m#### Plotting ####\u001B[39;00m\n\u001B[0;32m      2\u001B[0m plt\u001B[38;5;241m.\u001B[39mfigure(figsize\u001B[38;5;241m=\u001B[39m(\u001B[38;5;241m10\u001B[39m, \u001B[38;5;241m20\u001B[39m))\n\u001B[1;32m----> 3\u001B[0m plt\u001B[38;5;241m.\u001B[39msubplot(\u001B[38;5;28mlen\u001B[39m(\u001B[43mprecip_models\u001B[49m)\u001B[38;5;241m+\u001B[39m\u001B[38;5;241m2\u001B[39m, \u001B[38;5;241m1\u001B[39m, \u001B[38;5;241m1\u001B[39m)\n\u001B[0;32m      4\u001B[0m plt\u001B[38;5;241m.\u001B[39mimshow(y_true\u001B[38;5;241m.\u001B[39msqueeze()\u001B[38;5;241m*\u001B[39m\u001B[38;5;241m47.83\u001B[39m)\n\u001B[0;32m      5\u001B[0m plt\u001B[38;5;241m.\u001B[39mcolorbar()\n",
      "\u001B[1;31mNameError\u001B[0m: name 'precip_models' is not defined"
     ]
    },
    {
     "data": {
      "text/plain": [
       "<Figure size 1000x2000 with 0 Axes>"
      ]
     },
     "metadata": {},
     "output_type": "display_data"
    }
   ],
   "execution_count": 2
  },
  {
   "cell_type": "code",
   "source": [
    "fig, axesgrid = plt.subplots(nrows=2, ncols=(len(precip_models)+2)//2, figsize=(20, 10))\n",
    "axes = axesgrid.flat\n",
    "im = axes[0].imshow(y_true.squeeze()*260.0)\n",
    "axes[0].set_title(\"Groundtruth\", fontsize=15)\n",
    "axes[0].set_axis_off()\n",
    "axes[1].imshow(x.squeeze()[-1]*260.0, vmax=torch.max(y_true*260.0), vmin=torch.min(y_true*260.0))\n",
    "axes[1].set_title(\"Persistence\", fontsize=15)\n",
    "axes[1].set_axis_off()\n",
    "\n",
    "# for ax in axes.flat[2:]:\n",
    "for i, (model_name, y_pred) in enumerate(plot_images.items()):\n",
    "    print(model_name)\n",
    "#     plt.subplot(len(precip_models)+2, 1, i+3)\n",
    "    axes[i+2].imshow(y_pred*260.0, vmax=torch.max(y_true*260.0), vmin=torch.min(y_true*260.0))\n",
    "    axes[i+2].set_title(model_name, fontsize=15)\n",
    "    axes[i+2].set_axis_off()\n",
    "#     im = ax.imshow(np.random.random((16, 16)), cmap='viridis',\n",
    "#                    vmin=0, vmax=1)\n",
    "\n",
    "fig.subplots_adjust(wspace=0.02)\n",
    "cbar = fig.colorbar(im, ax=axesgrid.ravel().tolist(), shrink=1)\n",
    "cbar.ax.set_ylabel('mm/5min', fontsize=15)\n",
    "plt.savefig(\"plots/Precip_example.eps\")\n",
    "plt.savefig(\"plots/Precip_example.png\", dpi=300)\n",
    "plt.show()"
   ],
   "metadata": {
    "collapsed": false,
    "ExecuteTime": {
     "end_time": "2024-05-17T01:25:06.626622Z",
     "start_time": "2024-05-17T01:25:06.605227Z"
    }
   },
   "outputs": [
    {
     "ename": "NameError",
     "evalue": "name 'precip_models' is not defined",
     "output_type": "error",
     "traceback": [
      "\u001B[1;31m---------------------------------------------------------------------------\u001B[0m",
      "\u001B[1;31mNameError\u001B[0m                                 Traceback (most recent call last)",
      "Cell \u001B[1;32mIn[3], line 1\u001B[0m\n\u001B[1;32m----> 1\u001B[0m fig, axesgrid \u001B[38;5;241m=\u001B[39m plt\u001B[38;5;241m.\u001B[39msubplots(nrows\u001B[38;5;241m=\u001B[39m\u001B[38;5;241m2\u001B[39m, ncols\u001B[38;5;241m=\u001B[39m(\u001B[38;5;28mlen\u001B[39m(\u001B[43mprecip_models\u001B[49m)\u001B[38;5;241m+\u001B[39m\u001B[38;5;241m2\u001B[39m)\u001B[38;5;241m/\u001B[39m\u001B[38;5;241m/\u001B[39m\u001B[38;5;241m2\u001B[39m, figsize\u001B[38;5;241m=\u001B[39m(\u001B[38;5;241m20\u001B[39m, \u001B[38;5;241m10\u001B[39m))\n\u001B[0;32m      2\u001B[0m axes \u001B[38;5;241m=\u001B[39m axesgrid\u001B[38;5;241m.\u001B[39mflat\n\u001B[0;32m      3\u001B[0m im \u001B[38;5;241m=\u001B[39m axes[\u001B[38;5;241m0\u001B[39m]\u001B[38;5;241m.\u001B[39mimshow(y_true\u001B[38;5;241m.\u001B[39msqueeze()\u001B[38;5;241m*\u001B[39m\u001B[38;5;241m47.83\u001B[39m)\n",
      "\u001B[1;31mNameError\u001B[0m: name 'precip_models' is not defined"
     ]
    }
   ],
   "execution_count": 3
  },
  {
   "metadata": {
    "jupyter": {
     "is_executing": true
    }
   },
   "cell_type": "code",
   "source": "",
   "outputs": [],
   "execution_count": null
  },
  {
   "metadata": {},
   "cell_type": "code",
   "outputs": [],
   "execution_count": null,
   "source": ""
  }
 ],
 "metadata": {
  "kernelspec": {
   "display_name": "Python 3",
   "language": "python",
   "name": "python3"
  },
  "language_info": {
   "codemirror_mode": {
    "name": "ipython",
    "version": 2
   },
   "file_extension": ".py",
   "mimetype": "text/x-python",
   "name": "python",
   "nbconvert_exporter": "python",
   "pygments_lexer": "ipython2",
   "version": "2.7.6"
  }
 },
 "nbformat": 4,
 "nbformat_minor": 0
}
